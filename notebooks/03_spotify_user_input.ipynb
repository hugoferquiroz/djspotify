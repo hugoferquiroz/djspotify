{
 "cells": [
  {
   "attachments": {},
   "cell_type": "markdown",
   "metadata": {},
   "source": [
    "# Getting data from user"
   ]
  },
  {
   "cell_type": "code",
   "execution_count": 1,
   "metadata": {},
   "outputs": [],
   "source": [
    "import spotipy\n",
    "from spotipy.oauth2 import SpotifyClientCredentials\n",
    "import pprint"
   ]
  },
  {
   "cell_type": "code",
   "execution_count": 2,
   "metadata": {},
   "outputs": [],
   "source": [
    "# Server to server authentication\n",
    "auth_manager = SpotifyClientCredentials()\n",
    "sp = spotipy.Spotify(auth_manager=auth_manager, requests_timeout=20)"
   ]
  },
  {
   "cell_type": "code",
   "execution_count": 15,
   "metadata": {},
   "outputs": [],
   "source": [
    "tracksid = []\n",
    "tracksname = []\n",
    "tracksartist = []"
   ]
  },
  {
   "attachments": {},
   "cell_type": "markdown",
   "metadata": {},
   "source": [
    "## Adding items to search"
   ]
  },
  {
   "attachments": {},
   "cell_type": "markdown",
   "metadata": {},
   "source": [
    "### Search for artist"
   ]
  },
  {
   "cell_type": "code",
   "execution_count": 23,
   "metadata": {},
   "outputs": [
    {
     "name": "stdout",
     "output_type": "stream",
     "text": [
      "5ZNxiPcbKgaNcBrERMpqeu Mägo de Oz\n"
     ]
    }
   ],
   "source": [
    "# Buscar por artista\n",
    "\n",
    "results = sp.search('Mago de OZ', type='artist', limit=1)\n",
    "\n",
    "if results['artists']['items']:\n",
    "    artistid = results['artists']['items'][0]['id']\n",
    "    artistname = results['artists']['items'][0]['name']\n",
    "    print(artistid, artistname)\n",
    "else:\n",
    "    print('No artist found')"
   ]
  },
  {
   "cell_type": "code",
   "execution_count": 24,
   "metadata": {},
   "outputs": [
    {
     "name": "stdout",
     "output_type": "stream",
     "text": [
      "02dphTJYUQ9pmdNC52iyOz - Fiesta Pagana / Mägo de Oz\n",
      "19vhfSUgVJO2enJ6XidUGO - Molinos De Viento / Mägo de Oz\n",
      "5Q2uU5NGcS0mKwmgF28kRZ - Haste Que El Cuerpo Aguante / Mägo de Oz\n",
      "4mTsRdFE28MYlrZo8N4Es0 - La Costa Del Silencio / Mägo de Oz\n",
      "0dQPkfweyWDzZ20Auq3F14 - La danza del fuego / Mägo de Oz\n"
     ]
    }
   ],
   "source": [
    "# Buscar top 5 tracks\n",
    "\n",
    "results = sp.artist_top_tracks(artistid, country='US')\n",
    "\n",
    "for track in results['tracks'][:5]:\n",
    "    trackid = track['id']\n",
    "    trackname = track['name']\n",
    "    trackartist = track['artists'][0]['name']\n",
    "\n",
    "    tracksid.append(trackid)\n",
    "    tracksname.append(trackname)\n",
    "    tracksartist.append(trackartist)\n",
    "\n",
    "    print(track['id'], '-', track['name'], '/', trackartist)"
   ]
  },
  {
   "attachments": {},
   "cell_type": "markdown",
   "metadata": {},
   "source": [
    "### Search a track"
   ]
  },
  {
   "cell_type": "code",
   "execution_count": 18,
   "metadata": {},
   "outputs": [
    {
     "name": "stdout",
     "output_type": "stream",
     "text": [
      "0. 3jzpdDnLaQcsuGCw4JwVYS - La Chata / Amén\n",
      "1. 0eJGouVmEGxPktWPSTfpuI - Te Quiero / Amén\n",
      "2. 7AjcJrynzHWlawo87kafY2 - Amén / Ricardo Montaner\n",
      "3. 6kTMnty169llVx9sGHb6LD - Solo / Amenazzy\n",
      "4. 6Gfu03HfvbXdgEC3uEPUOk - Amen / Meek Mill\n"
     ]
    }
   ],
   "source": [
    "# Buscar por nombre de canción\n",
    "\n",
    "results = sp.search('Amen', type='track', limit=5)\n",
    "\n",
    "possible_ids = []\n",
    "possible_artists = []\n",
    "possible_names = []\n",
    "\n",
    "for i, track in  enumerate(results['tracks']['items']):\n",
    "    trackid = track['id']\n",
    "    trackname = track['name']\n",
    "    trackartist = track['artists'][0]['name']\n",
    "    print(f'{i}.', trackid, '-', trackname, '/', trackartist)\n",
    "    \n",
    "    possible_ids.append(trackid)\n",
    "    possible_names.append(trackname)\n",
    "    possible_artists.append(trackartist)"
   ]
  },
  {
   "cell_type": "code",
   "execution_count": 7,
   "metadata": {},
   "outputs": [
    {
     "name": "stdout",
     "output_type": "stream",
     "text": [
      "Choose an option or type -1 to exit:\n",
      "Added track\n",
      "5EJ2THuhAapEIeQOtXUQ0x - Oye Mi Amor / Maná\n"
     ]
    }
   ],
   "source": [
    "# Agregar una opción para elegir la canción\n",
    "\n",
    "if possible_ids != []:\n",
    "    print('Choose an option or type -1 to exit:')\n",
    "    option = int(input())\n",
    "\n",
    "    if option < len(possible_ids) and option >= 0:\n",
    "        print('Added track')\n",
    "        trackid = possible_ids[option]\n",
    "        trackname = possible_names[option]\n",
    "        trackartist = possible_artists[option]\n",
    "\n",
    "        print(trackid, '-', trackname, '/', trackartist)\n",
    "\n",
    "        tracksid.append(trackid)\n",
    "        tracksname.append(trackname)\n",
    "        tracksartist.append(trackartist)\n",
    "    else:\n",
    "        print('No saved track')\n",
    "else:\n",
    "    print('No track found')"
   ]
  },
  {
   "attachments": {},
   "cell_type": "markdown",
   "metadata": {},
   "source": [
    "### Preprocessing the data"
   ]
  },
  {
   "cell_type": "code",
   "execution_count": 25,
   "metadata": {},
   "outputs": [
    {
     "name": "stdout",
     "output_type": "stream",
     "text": [
      "3jzpdDnLaQcsuGCw4JwVYS - La Chata / Amén\n",
      "7c6Zu7NeLHWy4r3ztZuT0G - Decir adiós / Amén\n",
      "0eJGouVmEGxPktWPSTfpuI - Te Quiero / Amén\n",
      "1snT64YtuTvZYVzuornRjw - Decir Adiós / Amén\n",
      "5xj5qixWeH2I44SFx0Icdv - Fin del Tiempo / Amén\n",
      "5Q2J37xbIR60z6ifswoGKe - Un Vino, Una Cerveza / Pedro Suárez-Vértiz\n",
      "76KLnsqCiFEFTEQp2Vaf8R - Cuéntame / Pedro Suárez-Vértiz\n",
      "0gnsuw6eGZEwph1rKnxzOu - Los Globos del Cielo / Pedro Suárez-Vértiz\n",
      "4COvULULVKLsMKMRKIiXUa - Me Estoy Enamorando / Pedro Suárez-Vértiz\n",
      "58t9Q8VqXGhaqtilMkIkRx - Degeneración Actual / Pedro Suárez-Vértiz\n",
      "02dphTJYUQ9pmdNC52iyOz - Fiesta Pagana / Mägo de Oz\n",
      "19vhfSUgVJO2enJ6XidUGO - Molinos De Viento / Mägo de Oz\n",
      "5Q2uU5NGcS0mKwmgF28kRZ - Haste Que El Cuerpo Aguante / Mägo de Oz\n",
      "4mTsRdFE28MYlrZo8N4Es0 - La Costa Del Silencio / Mägo de Oz\n",
      "0dQPkfweyWDzZ20Auq3F14 - La danza del fuego / Mägo de Oz\n"
     ]
    }
   ],
   "source": [
    "# Datos del usuario\n",
    "for trackid, trackname, trackartist in zip(tracksid, tracksname, tracksartist):\n",
    "    print(trackid, '-', trackname, '/', trackartist)"
   ]
  },
  {
   "cell_type": "code",
   "execution_count": 26,
   "metadata": {},
   "outputs": [
    {
     "name": "stdout",
     "output_type": "stream",
     "text": [
      "cantidad de canciones: 15\n"
     ]
    }
   ],
   "source": [
    "# Evitar repeticiones\n",
    "# Todo: Evitar duplicados\n",
    "\n",
    "print('cantidad de canciones:', len(tracksid))"
   ]
  },
  {
   "cell_type": "code",
   "execution_count": 27,
   "metadata": {},
   "outputs": [],
   "source": [
    "# Crear un dataset con las preferencias del usuario\n",
    "import pandas as pd\n",
    "\n",
    "features = sp.audio_features(tracksid)\n",
    "\n",
    "df_features = pd.DataFrame(features, index=tracksname)"
   ]
  },
  {
   "cell_type": "code",
   "execution_count": 28,
   "metadata": {},
   "outputs": [
    {
     "data": {
      "text/html": [
       "<div>\n",
       "<style scoped>\n",
       "    .dataframe tbody tr th:only-of-type {\n",
       "        vertical-align: middle;\n",
       "    }\n",
       "\n",
       "    .dataframe tbody tr th {\n",
       "        vertical-align: top;\n",
       "    }\n",
       "\n",
       "    .dataframe thead th {\n",
       "        text-align: right;\n",
       "    }\n",
       "</style>\n",
       "<table border=\"1\" class=\"dataframe\">\n",
       "  <thead>\n",
       "    <tr style=\"text-align: right;\">\n",
       "      <th></th>\n",
       "      <th>danceability</th>\n",
       "      <th>energy</th>\n",
       "      <th>key</th>\n",
       "      <th>loudness</th>\n",
       "      <th>mode</th>\n",
       "      <th>speechiness</th>\n",
       "      <th>acousticness</th>\n",
       "      <th>instrumentalness</th>\n",
       "      <th>liveness</th>\n",
       "      <th>valence</th>\n",
       "      <th>tempo</th>\n",
       "      <th>type</th>\n",
       "      <th>id</th>\n",
       "      <th>uri</th>\n",
       "      <th>track_href</th>\n",
       "      <th>analysis_url</th>\n",
       "      <th>duration_ms</th>\n",
       "      <th>time_signature</th>\n",
       "    </tr>\n",
       "  </thead>\n",
       "  <tbody>\n",
       "    <tr>\n",
       "      <th>La Chata</th>\n",
       "      <td>0.569</td>\n",
       "      <td>0.525</td>\n",
       "      <td>2</td>\n",
       "      <td>-5.809</td>\n",
       "      <td>1</td>\n",
       "      <td>0.0257</td>\n",
       "      <td>0.251</td>\n",
       "      <td>0.000000</td>\n",
       "      <td>0.3460</td>\n",
       "      <td>0.303</td>\n",
       "      <td>153.988</td>\n",
       "      <td>audio_features</td>\n",
       "      <td>3jzpdDnLaQcsuGCw4JwVYS</td>\n",
       "      <td>spotify:track:3jzpdDnLaQcsuGCw4JwVYS</td>\n",
       "      <td>https://api.spotify.com/v1/tracks/3jzpdDnLaQcs...</td>\n",
       "      <td>https://api.spotify.com/v1/audio-analysis/3jzp...</td>\n",
       "      <td>206840</td>\n",
       "      <td>4</td>\n",
       "    </tr>\n",
       "    <tr>\n",
       "      <th>Decir adiós</th>\n",
       "      <td>0.566</td>\n",
       "      <td>0.360</td>\n",
       "      <td>7</td>\n",
       "      <td>-10.258</td>\n",
       "      <td>1</td>\n",
       "      <td>0.0315</td>\n",
       "      <td>0.680</td>\n",
       "      <td>0.000000</td>\n",
       "      <td>0.0972</td>\n",
       "      <td>0.431</td>\n",
       "      <td>134.124</td>\n",
       "      <td>audio_features</td>\n",
       "      <td>7c6Zu7NeLHWy4r3ztZuT0G</td>\n",
       "      <td>spotify:track:7c6Zu7NeLHWy4r3ztZuT0G</td>\n",
       "      <td>https://api.spotify.com/v1/tracks/7c6Zu7NeLHWy...</td>\n",
       "      <td>https://api.spotify.com/v1/audio-analysis/7c6Z...</td>\n",
       "      <td>239000</td>\n",
       "      <td>4</td>\n",
       "    </tr>\n",
       "    <tr>\n",
       "      <th>Te Quiero</th>\n",
       "      <td>0.454</td>\n",
       "      <td>0.670</td>\n",
       "      <td>0</td>\n",
       "      <td>-6.704</td>\n",
       "      <td>1</td>\n",
       "      <td>0.0815</td>\n",
       "      <td>0.463</td>\n",
       "      <td>0.000002</td>\n",
       "      <td>0.0735</td>\n",
       "      <td>0.378</td>\n",
       "      <td>190.113</td>\n",
       "      <td>audio_features</td>\n",
       "      <td>0eJGouVmEGxPktWPSTfpuI</td>\n",
       "      <td>spotify:track:0eJGouVmEGxPktWPSTfpuI</td>\n",
       "      <td>https://api.spotify.com/v1/tracks/0eJGouVmEGxP...</td>\n",
       "      <td>https://api.spotify.com/v1/audio-analysis/0eJG...</td>\n",
       "      <td>264880</td>\n",
       "      <td>3</td>\n",
       "    </tr>\n",
       "    <tr>\n",
       "      <th>Decir Adiós</th>\n",
       "      <td>0.596</td>\n",
       "      <td>0.454</td>\n",
       "      <td>7</td>\n",
       "      <td>-7.032</td>\n",
       "      <td>1</td>\n",
       "      <td>0.0421</td>\n",
       "      <td>0.463</td>\n",
       "      <td>0.000001</td>\n",
       "      <td>0.1140</td>\n",
       "      <td>0.409</td>\n",
       "      <td>135.671</td>\n",
       "      <td>audio_features</td>\n",
       "      <td>1snT64YtuTvZYVzuornRjw</td>\n",
       "      <td>spotify:track:1snT64YtuTvZYVzuornRjw</td>\n",
       "      <td>https://api.spotify.com/v1/tracks/1snT64YtuTvZ...</td>\n",
       "      <td>https://api.spotify.com/v1/audio-analysis/1snT...</td>\n",
       "      <td>232227</td>\n",
       "      <td>4</td>\n",
       "    </tr>\n",
       "    <tr>\n",
       "      <th>Fin del Tiempo</th>\n",
       "      <td>0.561</td>\n",
       "      <td>0.475</td>\n",
       "      <td>9</td>\n",
       "      <td>-5.918</td>\n",
       "      <td>1</td>\n",
       "      <td>0.0289</td>\n",
       "      <td>0.692</td>\n",
       "      <td>0.000000</td>\n",
       "      <td>0.2410</td>\n",
       "      <td>0.384</td>\n",
       "      <td>141.451</td>\n",
       "      <td>audio_features</td>\n",
       "      <td>5xj5qixWeH2I44SFx0Icdv</td>\n",
       "      <td>spotify:track:5xj5qixWeH2I44SFx0Icdv</td>\n",
       "      <td>https://api.spotify.com/v1/tracks/5xj5qixWeH2I...</td>\n",
       "      <td>https://api.spotify.com/v1/audio-analysis/5xj5...</td>\n",
       "      <td>186500</td>\n",
       "      <td>4</td>\n",
       "    </tr>\n",
       "  </tbody>\n",
       "</table>\n",
       "</div>"
      ],
      "text/plain": [
       "                danceability  energy  key  loudness  mode  speechiness  \\\n",
       "La Chata               0.569   0.525    2    -5.809     1       0.0257   \n",
       "Decir adiós            0.566   0.360    7   -10.258     1       0.0315   \n",
       "Te Quiero              0.454   0.670    0    -6.704     1       0.0815   \n",
       "Decir Adiós            0.596   0.454    7    -7.032     1       0.0421   \n",
       "Fin del Tiempo         0.561   0.475    9    -5.918     1       0.0289   \n",
       "\n",
       "                acousticness  instrumentalness  liveness  valence    tempo  \\\n",
       "La Chata               0.251          0.000000    0.3460    0.303  153.988   \n",
       "Decir adiós            0.680          0.000000    0.0972    0.431  134.124   \n",
       "Te Quiero              0.463          0.000002    0.0735    0.378  190.113   \n",
       "Decir Adiós            0.463          0.000001    0.1140    0.409  135.671   \n",
       "Fin del Tiempo         0.692          0.000000    0.2410    0.384  141.451   \n",
       "\n",
       "                          type                      id  \\\n",
       "La Chata        audio_features  3jzpdDnLaQcsuGCw4JwVYS   \n",
       "Decir adiós     audio_features  7c6Zu7NeLHWy4r3ztZuT0G   \n",
       "Te Quiero       audio_features  0eJGouVmEGxPktWPSTfpuI   \n",
       "Decir Adiós     audio_features  1snT64YtuTvZYVzuornRjw   \n",
       "Fin del Tiempo  audio_features  5xj5qixWeH2I44SFx0Icdv   \n",
       "\n",
       "                                                 uri  \\\n",
       "La Chata        spotify:track:3jzpdDnLaQcsuGCw4JwVYS   \n",
       "Decir adiós     spotify:track:7c6Zu7NeLHWy4r3ztZuT0G   \n",
       "Te Quiero       spotify:track:0eJGouVmEGxPktWPSTfpuI   \n",
       "Decir Adiós     spotify:track:1snT64YtuTvZYVzuornRjw   \n",
       "Fin del Tiempo  spotify:track:5xj5qixWeH2I44SFx0Icdv   \n",
       "\n",
       "                                                       track_href  \\\n",
       "La Chata        https://api.spotify.com/v1/tracks/3jzpdDnLaQcs...   \n",
       "Decir adiós     https://api.spotify.com/v1/tracks/7c6Zu7NeLHWy...   \n",
       "Te Quiero       https://api.spotify.com/v1/tracks/0eJGouVmEGxP...   \n",
       "Decir Adiós     https://api.spotify.com/v1/tracks/1snT64YtuTvZ...   \n",
       "Fin del Tiempo  https://api.spotify.com/v1/tracks/5xj5qixWeH2I...   \n",
       "\n",
       "                                                     analysis_url  \\\n",
       "La Chata        https://api.spotify.com/v1/audio-analysis/3jzp...   \n",
       "Decir adiós     https://api.spotify.com/v1/audio-analysis/7c6Z...   \n",
       "Te Quiero       https://api.spotify.com/v1/audio-analysis/0eJG...   \n",
       "Decir Adiós     https://api.spotify.com/v1/audio-analysis/1snT...   \n",
       "Fin del Tiempo  https://api.spotify.com/v1/audio-analysis/5xj5...   \n",
       "\n",
       "                duration_ms  time_signature  \n",
       "La Chata             206840               4  \n",
       "Decir adiós          239000               4  \n",
       "Te Quiero            264880               3  \n",
       "Decir Adiós          232227               4  \n",
       "Fin del Tiempo       186500               4  "
      ]
     },
     "execution_count": 28,
     "metadata": {},
     "output_type": "execute_result"
    }
   ],
   "source": [
    "df_features.head()"
   ]
  },
  {
   "cell_type": "code",
   "execution_count": 29,
   "metadata": {},
   "outputs": [
    {
     "data": {
      "text/html": [
       "<div>\n",
       "<style scoped>\n",
       "    .dataframe tbody tr th:only-of-type {\n",
       "        vertical-align: middle;\n",
       "    }\n",
       "\n",
       "    .dataframe tbody tr th {\n",
       "        vertical-align: top;\n",
       "    }\n",
       "\n",
       "    .dataframe thead th {\n",
       "        text-align: right;\n",
       "    }\n",
       "</style>\n",
       "<table border=\"1\" class=\"dataframe\">\n",
       "  <thead>\n",
       "    <tr style=\"text-align: right;\">\n",
       "      <th></th>\n",
       "      <th>id</th>\n",
       "      <th>acousticness</th>\n",
       "      <th>danceability</th>\n",
       "      <th>duration_ms</th>\n",
       "      <th>energy</th>\n",
       "      <th>instrumentalness</th>\n",
       "      <th>key</th>\n",
       "      <th>liveness</th>\n",
       "      <th>loudness</th>\n",
       "      <th>mode</th>\n",
       "      <th>speechiness</th>\n",
       "      <th>tempo</th>\n",
       "      <th>valence</th>\n",
       "    </tr>\n",
       "  </thead>\n",
       "  <tbody>\n",
       "    <tr>\n",
       "      <th>La Chata</th>\n",
       "      <td>3jzpdDnLaQcsuGCw4JwVYS</td>\n",
       "      <td>0.251</td>\n",
       "      <td>0.569</td>\n",
       "      <td>206840</td>\n",
       "      <td>0.525</td>\n",
       "      <td>0.000000</td>\n",
       "      <td>2</td>\n",
       "      <td>0.3460</td>\n",
       "      <td>-5.809</td>\n",
       "      <td>1</td>\n",
       "      <td>0.0257</td>\n",
       "      <td>153.988</td>\n",
       "      <td>0.303</td>\n",
       "    </tr>\n",
       "    <tr>\n",
       "      <th>Decir adiós</th>\n",
       "      <td>7c6Zu7NeLHWy4r3ztZuT0G</td>\n",
       "      <td>0.680</td>\n",
       "      <td>0.566</td>\n",
       "      <td>239000</td>\n",
       "      <td>0.360</td>\n",
       "      <td>0.000000</td>\n",
       "      <td>7</td>\n",
       "      <td>0.0972</td>\n",
       "      <td>-10.258</td>\n",
       "      <td>1</td>\n",
       "      <td>0.0315</td>\n",
       "      <td>134.124</td>\n",
       "      <td>0.431</td>\n",
       "    </tr>\n",
       "    <tr>\n",
       "      <th>Te Quiero</th>\n",
       "      <td>0eJGouVmEGxPktWPSTfpuI</td>\n",
       "      <td>0.463</td>\n",
       "      <td>0.454</td>\n",
       "      <td>264880</td>\n",
       "      <td>0.670</td>\n",
       "      <td>0.000002</td>\n",
       "      <td>0</td>\n",
       "      <td>0.0735</td>\n",
       "      <td>-6.704</td>\n",
       "      <td>1</td>\n",
       "      <td>0.0815</td>\n",
       "      <td>190.113</td>\n",
       "      <td>0.378</td>\n",
       "    </tr>\n",
       "    <tr>\n",
       "      <th>Decir Adiós</th>\n",
       "      <td>1snT64YtuTvZYVzuornRjw</td>\n",
       "      <td>0.463</td>\n",
       "      <td>0.596</td>\n",
       "      <td>232227</td>\n",
       "      <td>0.454</td>\n",
       "      <td>0.000001</td>\n",
       "      <td>7</td>\n",
       "      <td>0.1140</td>\n",
       "      <td>-7.032</td>\n",
       "      <td>1</td>\n",
       "      <td>0.0421</td>\n",
       "      <td>135.671</td>\n",
       "      <td>0.409</td>\n",
       "    </tr>\n",
       "    <tr>\n",
       "      <th>Fin del Tiempo</th>\n",
       "      <td>5xj5qixWeH2I44SFx0Icdv</td>\n",
       "      <td>0.692</td>\n",
       "      <td>0.561</td>\n",
       "      <td>186500</td>\n",
       "      <td>0.475</td>\n",
       "      <td>0.000000</td>\n",
       "      <td>9</td>\n",
       "      <td>0.2410</td>\n",
       "      <td>-5.918</td>\n",
       "      <td>1</td>\n",
       "      <td>0.0289</td>\n",
       "      <td>141.451</td>\n",
       "      <td>0.384</td>\n",
       "    </tr>\n",
       "  </tbody>\n",
       "</table>\n",
       "</div>"
      ],
      "text/plain": [
       "                                    id  acousticness  danceability  \\\n",
       "La Chata        3jzpdDnLaQcsuGCw4JwVYS         0.251         0.569   \n",
       "Decir adiós     7c6Zu7NeLHWy4r3ztZuT0G         0.680         0.566   \n",
       "Te Quiero       0eJGouVmEGxPktWPSTfpuI         0.463         0.454   \n",
       "Decir Adiós     1snT64YtuTvZYVzuornRjw         0.463         0.596   \n",
       "Fin del Tiempo  5xj5qixWeH2I44SFx0Icdv         0.692         0.561   \n",
       "\n",
       "                duration_ms  energy  instrumentalness  key  liveness  \\\n",
       "La Chata             206840   0.525          0.000000    2    0.3460   \n",
       "Decir adiós          239000   0.360          0.000000    7    0.0972   \n",
       "Te Quiero            264880   0.670          0.000002    0    0.0735   \n",
       "Decir Adiós          232227   0.454          0.000001    7    0.1140   \n",
       "Fin del Tiempo       186500   0.475          0.000000    9    0.2410   \n",
       "\n",
       "                loudness  mode  speechiness    tempo  valence  \n",
       "La Chata          -5.809     1       0.0257  153.988    0.303  \n",
       "Decir adiós      -10.258     1       0.0315  134.124    0.431  \n",
       "Te Quiero         -6.704     1       0.0815  190.113    0.378  \n",
       "Decir Adiós       -7.032     1       0.0421  135.671    0.409  \n",
       "Fin del Tiempo    -5.918     1       0.0289  141.451    0.384  "
      ]
     },
     "execution_count": 29,
     "metadata": {},
     "output_type": "execute_result"
    }
   ],
   "source": [
    "df_features = df_features[[\"id\", \"acousticness\", \"danceability\", \"duration_ms\", \"energy\", \"instrumentalness\",  \"key\", \"liveness\", \"loudness\", \"mode\", \"speechiness\", \"tempo\", \"valence\"]]\n",
    "df_features.head()"
   ]
  },
  {
   "cell_type": "code",
   "execution_count": 14,
   "metadata": {},
   "outputs": [],
   "source": [
    "df_features.to_csv('data/input.csv')"
   ]
  }
 ],
 "metadata": {
  "kernelspec": {
   "display_name": "api",
   "language": "python",
   "name": "python3"
  },
  "language_info": {
   "codemirror_mode": {
    "name": "ipython",
    "version": 3
   },
   "file_extension": ".py",
   "mimetype": "text/x-python",
   "name": "python",
   "nbconvert_exporter": "python",
   "pygments_lexer": "ipython3",
   "version": "3.10.9"
  },
  "orig_nbformat": 4
 },
 "nbformat": 4,
 "nbformat_minor": 2
}
