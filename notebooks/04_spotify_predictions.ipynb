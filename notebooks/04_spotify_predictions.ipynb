{
 "cells": [
  {
   "cell_type": "markdown",
   "metadata": {},
   "source": [
    "# Predictions for Spotify"
   ]
  },
  {
   "attachments": {},
   "cell_type": "markdown",
   "metadata": {},
   "source": [
    "## Extraemos la data"
   ]
  },
  {
   "cell_type": "code",
   "execution_count": 54,
   "metadata": {},
   "outputs": [],
   "source": [
    "import pandas as pd"
   ]
  },
  {
   "cell_type": "code",
   "execution_count": 55,
   "metadata": {},
   "outputs": [],
   "source": [
    "# Read in the data\n",
    "userinput_df = pd.read_csv('data/input.csv', index_col=0)\n",
    "candidatos_df = pd.read_csv('data/datadmc.csv', index_col=0)"
   ]
  },
  {
   "cell_type": "code",
   "execution_count": 56,
   "metadata": {},
   "outputs": [
    {
     "name": "stdout",
     "output_type": "stream",
     "text": [
      "(15, 13)\n"
     ]
    },
    {
     "data": {
      "text/html": [
       "<div>\n",
       "<style scoped>\n",
       "    .dataframe tbody tr th:only-of-type {\n",
       "        vertical-align: middle;\n",
       "    }\n",
       "\n",
       "    .dataframe tbody tr th {\n",
       "        vertical-align: top;\n",
       "    }\n",
       "\n",
       "    .dataframe thead th {\n",
       "        text-align: right;\n",
       "    }\n",
       "</style>\n",
       "<table border=\"1\" class=\"dataframe\">\n",
       "  <thead>\n",
       "    <tr style=\"text-align: right;\">\n",
       "      <th></th>\n",
       "      <th>id</th>\n",
       "      <th>acousticness</th>\n",
       "      <th>danceability</th>\n",
       "      <th>duration_ms</th>\n",
       "      <th>energy</th>\n",
       "      <th>instrumentalness</th>\n",
       "      <th>key</th>\n",
       "      <th>liveness</th>\n",
       "      <th>loudness</th>\n",
       "      <th>mode</th>\n",
       "      <th>speechiness</th>\n",
       "      <th>tempo</th>\n",
       "      <th>valence</th>\n",
       "    </tr>\n",
       "  </thead>\n",
       "  <tbody>\n",
       "    <tr>\n",
       "      <th>La Chata</th>\n",
       "      <td>3jzpdDnLaQcsuGCw4JwVYS</td>\n",
       "      <td>0.251</td>\n",
       "      <td>0.569</td>\n",
       "      <td>206840</td>\n",
       "      <td>0.525</td>\n",
       "      <td>0.000000</td>\n",
       "      <td>2</td>\n",
       "      <td>0.3460</td>\n",
       "      <td>-5.809</td>\n",
       "      <td>1</td>\n",
       "      <td>0.0257</td>\n",
       "      <td>153.988</td>\n",
       "      <td>0.303</td>\n",
       "    </tr>\n",
       "    <tr>\n",
       "      <th>Decir adiós</th>\n",
       "      <td>7c6Zu7NeLHWy4r3ztZuT0G</td>\n",
       "      <td>0.680</td>\n",
       "      <td>0.566</td>\n",
       "      <td>239000</td>\n",
       "      <td>0.360</td>\n",
       "      <td>0.000000</td>\n",
       "      <td>7</td>\n",
       "      <td>0.0972</td>\n",
       "      <td>-10.258</td>\n",
       "      <td>1</td>\n",
       "      <td>0.0315</td>\n",
       "      <td>134.124</td>\n",
       "      <td>0.431</td>\n",
       "    </tr>\n",
       "    <tr>\n",
       "      <th>Te Quiero</th>\n",
       "      <td>0eJGouVmEGxPktWPSTfpuI</td>\n",
       "      <td>0.463</td>\n",
       "      <td>0.454</td>\n",
       "      <td>264880</td>\n",
       "      <td>0.670</td>\n",
       "      <td>0.000002</td>\n",
       "      <td>0</td>\n",
       "      <td>0.0735</td>\n",
       "      <td>-6.704</td>\n",
       "      <td>1</td>\n",
       "      <td>0.0815</td>\n",
       "      <td>190.113</td>\n",
       "      <td>0.378</td>\n",
       "    </tr>\n",
       "    <tr>\n",
       "      <th>Decir Adiós</th>\n",
       "      <td>1snT64YtuTvZYVzuornRjw</td>\n",
       "      <td>0.463</td>\n",
       "      <td>0.596</td>\n",
       "      <td>232227</td>\n",
       "      <td>0.454</td>\n",
       "      <td>0.000001</td>\n",
       "      <td>7</td>\n",
       "      <td>0.1140</td>\n",
       "      <td>-7.032</td>\n",
       "      <td>1</td>\n",
       "      <td>0.0421</td>\n",
       "      <td>135.671</td>\n",
       "      <td>0.409</td>\n",
       "    </tr>\n",
       "    <tr>\n",
       "      <th>Fin del Tiempo</th>\n",
       "      <td>5xj5qixWeH2I44SFx0Icdv</td>\n",
       "      <td>0.692</td>\n",
       "      <td>0.561</td>\n",
       "      <td>186500</td>\n",
       "      <td>0.475</td>\n",
       "      <td>0.000000</td>\n",
       "      <td>9</td>\n",
       "      <td>0.2410</td>\n",
       "      <td>-5.918</td>\n",
       "      <td>1</td>\n",
       "      <td>0.0289</td>\n",
       "      <td>141.451</td>\n",
       "      <td>0.384</td>\n",
       "    </tr>\n",
       "  </tbody>\n",
       "</table>\n",
       "</div>"
      ],
      "text/plain": [
       "                                    id  acousticness  danceability  \\\n",
       "La Chata        3jzpdDnLaQcsuGCw4JwVYS         0.251         0.569   \n",
       "Decir adiós     7c6Zu7NeLHWy4r3ztZuT0G         0.680         0.566   \n",
       "Te Quiero       0eJGouVmEGxPktWPSTfpuI         0.463         0.454   \n",
       "Decir Adiós     1snT64YtuTvZYVzuornRjw         0.463         0.596   \n",
       "Fin del Tiempo  5xj5qixWeH2I44SFx0Icdv         0.692         0.561   \n",
       "\n",
       "                duration_ms  energy  instrumentalness  key  liveness  \\\n",
       "La Chata             206840   0.525          0.000000    2    0.3460   \n",
       "Decir adiós          239000   0.360          0.000000    7    0.0972   \n",
       "Te Quiero            264880   0.670          0.000002    0    0.0735   \n",
       "Decir Adiós          232227   0.454          0.000001    7    0.1140   \n",
       "Fin del Tiempo       186500   0.475          0.000000    9    0.2410   \n",
       "\n",
       "                loudness  mode  speechiness    tempo  valence  \n",
       "La Chata          -5.809     1       0.0257  153.988    0.303  \n",
       "Decir adiós      -10.258     1       0.0315  134.124    0.431  \n",
       "Te Quiero         -6.704     1       0.0815  190.113    0.378  \n",
       "Decir Adiós       -7.032     1       0.0421  135.671    0.409  \n",
       "Fin del Tiempo    -5.918     1       0.0289  141.451    0.384  "
      ]
     },
     "execution_count": 56,
     "metadata": {},
     "output_type": "execute_result"
    }
   ],
   "source": [
    "print(userinput_df.shape)\n",
    "userinput_df.head()"
   ]
  },
  {
   "cell_type": "code",
   "execution_count": 57,
   "metadata": {},
   "outputs": [
    {
     "name": "stdout",
     "output_type": "stream",
     "text": [
      "(555, 13)\n"
     ]
    },
    {
     "data": {
      "text/html": [
       "<div>\n",
       "<style scoped>\n",
       "    .dataframe tbody tr th:only-of-type {\n",
       "        vertical-align: middle;\n",
       "    }\n",
       "\n",
       "    .dataframe tbody tr th {\n",
       "        vertical-align: top;\n",
       "    }\n",
       "\n",
       "    .dataframe thead th {\n",
       "        text-align: right;\n",
       "    }\n",
       "</style>\n",
       "<table border=\"1\" class=\"dataframe\">\n",
       "  <thead>\n",
       "    <tr style=\"text-align: right;\">\n",
       "      <th></th>\n",
       "      <th>id</th>\n",
       "      <th>acousticness</th>\n",
       "      <th>danceability</th>\n",
       "      <th>duration_ms</th>\n",
       "      <th>energy</th>\n",
       "      <th>instrumentalness</th>\n",
       "      <th>key</th>\n",
       "      <th>liveness</th>\n",
       "      <th>loudness</th>\n",
       "      <th>mode</th>\n",
       "      <th>speechiness</th>\n",
       "      <th>tempo</th>\n",
       "      <th>valence</th>\n",
       "    </tr>\n",
       "    <tr>\n",
       "      <th>Unnamed: 0</th>\n",
       "      <th></th>\n",
       "      <th></th>\n",
       "      <th></th>\n",
       "      <th></th>\n",
       "      <th></th>\n",
       "      <th></th>\n",
       "      <th></th>\n",
       "      <th></th>\n",
       "      <th></th>\n",
       "      <th></th>\n",
       "      <th></th>\n",
       "      <th></th>\n",
       "      <th></th>\n",
       "    </tr>\n",
       "  </thead>\n",
       "  <tbody>\n",
       "    <tr>\n",
       "      <th>Estoy a la Puerta y Llamo</th>\n",
       "      <td>4bjsp9L4sWREYUkZU8nc6e</td>\n",
       "      <td>0.935</td>\n",
       "      <td>0.493</td>\n",
       "      <td>198240</td>\n",
       "      <td>0.1120</td>\n",
       "      <td>0.000558</td>\n",
       "      <td>10</td>\n",
       "      <td>0.1630</td>\n",
       "      <td>-14.419</td>\n",
       "      <td>0</td>\n",
       "      <td>0.0345</td>\n",
       "      <td>76.480</td>\n",
       "      <td>0.243</td>\n",
       "    </tr>\n",
       "    <tr>\n",
       "      <th>Nada Te Turbe</th>\n",
       "      <td>7GPBx7jwkMSnlUS6Qqudlp</td>\n",
       "      <td>0.859</td>\n",
       "      <td>0.523</td>\n",
       "      <td>216054</td>\n",
       "      <td>0.2420</td>\n",
       "      <td>0.000072</td>\n",
       "      <td>0</td>\n",
       "      <td>0.1050</td>\n",
       "      <td>-9.303</td>\n",
       "      <td>1</td>\n",
       "      <td>0.0269</td>\n",
       "      <td>103.928</td>\n",
       "      <td>0.319</td>\n",
       "    </tr>\n",
       "    <tr>\n",
       "      <th>Entraré</th>\n",
       "      <td>1koXbetRP1PgmDRqU4DFPb</td>\n",
       "      <td>0.944</td>\n",
       "      <td>0.426</td>\n",
       "      <td>262373</td>\n",
       "      <td>0.0559</td>\n",
       "      <td>0.000000</td>\n",
       "      <td>7</td>\n",
       "      <td>0.0633</td>\n",
       "      <td>-18.357</td>\n",
       "      <td>1</td>\n",
       "      <td>0.0300</td>\n",
       "      <td>71.843</td>\n",
       "      <td>0.116</td>\n",
       "    </tr>\n",
       "    <tr>\n",
       "      <th>Someone You Loved</th>\n",
       "      <td>7qEHsqek33rTcFNT9PFqLf</td>\n",
       "      <td>0.751</td>\n",
       "      <td>0.501</td>\n",
       "      <td>182161</td>\n",
       "      <td>0.4050</td>\n",
       "      <td>0.000000</td>\n",
       "      <td>1</td>\n",
       "      <td>0.1050</td>\n",
       "      <td>-5.679</td>\n",
       "      <td>1</td>\n",
       "      <td>0.0319</td>\n",
       "      <td>109.891</td>\n",
       "      <td>0.446</td>\n",
       "    </tr>\n",
       "    <tr>\n",
       "      <th>Before You Go</th>\n",
       "      <td>2gMXnyrvIjhVBUZwvLZDMP</td>\n",
       "      <td>0.604</td>\n",
       "      <td>0.459</td>\n",
       "      <td>215107</td>\n",
       "      <td>0.5750</td>\n",
       "      <td>0.000000</td>\n",
       "      <td>3</td>\n",
       "      <td>0.0885</td>\n",
       "      <td>-4.858</td>\n",
       "      <td>1</td>\n",
       "      <td>0.0573</td>\n",
       "      <td>111.881</td>\n",
       "      <td>0.183</td>\n",
       "    </tr>\n",
       "  </tbody>\n",
       "</table>\n",
       "</div>"
      ],
      "text/plain": [
       "                                               id  acousticness  danceability  \\\n",
       "Unnamed: 0                                                                      \n",
       "Estoy a la Puerta y Llamo  4bjsp9L4sWREYUkZU8nc6e         0.935         0.493   \n",
       "Nada Te Turbe              7GPBx7jwkMSnlUS6Qqudlp         0.859         0.523   \n",
       "Entraré                    1koXbetRP1PgmDRqU4DFPb         0.944         0.426   \n",
       "Someone You Loved          7qEHsqek33rTcFNT9PFqLf         0.751         0.501   \n",
       "Before You Go              2gMXnyrvIjhVBUZwvLZDMP         0.604         0.459   \n",
       "\n",
       "                           duration_ms  energy  instrumentalness  key  \\\n",
       "Unnamed: 0                                                              \n",
       "Estoy a la Puerta y Llamo       198240  0.1120          0.000558   10   \n",
       "Nada Te Turbe                   216054  0.2420          0.000072    0   \n",
       "Entraré                         262373  0.0559          0.000000    7   \n",
       "Someone You Loved               182161  0.4050          0.000000    1   \n",
       "Before You Go                   215107  0.5750          0.000000    3   \n",
       "\n",
       "                           liveness  loudness  mode  speechiness    tempo  \\\n",
       "Unnamed: 0                                                                  \n",
       "Estoy a la Puerta y Llamo    0.1630   -14.419     0       0.0345   76.480   \n",
       "Nada Te Turbe                0.1050    -9.303     1       0.0269  103.928   \n",
       "Entraré                      0.0633   -18.357     1       0.0300   71.843   \n",
       "Someone You Loved            0.1050    -5.679     1       0.0319  109.891   \n",
       "Before You Go                0.0885    -4.858     1       0.0573  111.881   \n",
       "\n",
       "                           valence  \n",
       "Unnamed: 0                          \n",
       "Estoy a la Puerta y Llamo    0.243  \n",
       "Nada Te Turbe                0.319  \n",
       "Entraré                      0.116  \n",
       "Someone You Loved            0.446  \n",
       "Before You Go                0.183  "
      ]
     },
     "execution_count": 57,
     "metadata": {},
     "output_type": "execute_result"
    }
   ],
   "source": [
    "print(candidatos_df.shape)\n",
    "candidatos_df.head()"
   ]
  },
  {
   "cell_type": "markdown",
   "metadata": {},
   "source": [
    "## Sistema de recomendación"
   ]
  },
  {
   "attachments": {},
   "cell_type": "markdown",
   "metadata": {},
   "source": [
    "![el sistema de recomendación](./sistema_recomendacion.png)\n",
    "\n",
    "Veamos en detalle el sistema de recomendación:\n",
    "\n",
    "![el sistema de recomendación en detalle](./sistema_recomendacion_detalle.png)\n"
   ]
  },
  {
   "attachments": {},
   "cell_type": "markdown",
   "metadata": {},
   "source": [
    "#### El filtrado basado en contenido\n",
    "\n",
    "Permite cuantificar qué tan similar es un ítem de `candidatos_df` a un ítem de `top20_df`.\n",
    "\n",
    "Una forma de hacer esta comparación es usando la similitud del coseno:\n",
    "\n",
    "![vectores de características](./vectores_caracteristicas.png)\n",
    "\n",
    "![la similitud del coseno](./similitud_coseno.png)\n",
    "\n",
    "Calcularemos este similitud entre cada user_input y cada una de las pistas candidatas (matriz de 20 x n_pistas_candidatas)"
   ]
  },
  {
   "cell_type": "code",
   "execution_count": 58,
   "metadata": {},
   "outputs": [],
   "source": [
    "# Extraer sólo los features en formato numpy array\n",
    "userinput_mtx = userinput_df.iloc[:,1:].values  # \"1:\" solo toma variables numéricas\n",
    "candidatos_mtx = candidatos_df.iloc[:,1:].values"
   ]
  },
  {
   "cell_type": "code",
   "execution_count": 59,
   "metadata": {},
   "outputs": [
    {
     "data": {
      "text/plain": [
       "array([[9.35000e-01, 4.93000e-01, 1.98240e+05, ..., 3.45000e-02,\n",
       "        7.64800e+01, 2.43000e-01],\n",
       "       [8.59000e-01, 5.23000e-01, 2.16054e+05, ..., 2.69000e-02,\n",
       "        1.03928e+02, 3.19000e-01],\n",
       "       [9.44000e-01, 4.26000e-01, 2.62373e+05, ..., 3.00000e-02,\n",
       "        7.18430e+01, 1.16000e-01],\n",
       "       ...,\n",
       "       [1.12000e-01, 6.53000e-01, 1.60191e+05, ..., 5.02000e-02,\n",
       "        8.39700e+01, 5.53000e-01],\n",
       "       [1.80000e-01, 4.52000e-01, 2.19955e+05, ..., 4.58000e-02,\n",
       "        1.41692e+02, 3.15000e-01],\n",
       "       [3.01000e-01, 7.02000e-01, 2.07455e+05, ..., 1.30000e-01,\n",
       "        7.96400e+01, 8.43000e-01]])"
      ]
     },
     "execution_count": 59,
     "metadata": {},
     "output_type": "execute_result"
    }
   ],
   "source": [
    "candidatos_mtx"
   ]
  },
  {
   "cell_type": "code",
   "execution_count": 60,
   "metadata": {},
   "outputs": [],
   "source": [
    "from sklearn.preprocessing import StandardScaler\n",
    "\n",
    "# Estandarizar cada columna de features: mu = 0, sigma = 1\n",
    "# pues cada característica tiene una escala diferente\n",
    "scaler = StandardScaler()\n",
    "user_scaled = scaler.fit_transform(userinput_mtx)\n",
    "cand_scaled = scaler.fit_transform(candidatos_mtx)"
   ]
  },
  {
   "cell_type": "code",
   "execution_count": 61,
   "metadata": {},
   "outputs": [
    {
     "name": "stdout",
     "output_type": "stream",
     "text": [
      "[-5.18104078e-17  2.07241631e-16 -2.51650552e-16 -1.33226763e-16\n",
      " -7.30896825e-17  2.96059473e-17  1.85037171e-16  6.21724894e-16\n",
      "  1.03620816e-16 -5.08852220e-17  7.99360578e-16 -8.88178420e-17]\n",
      "[1. 1. 1. 1. 1. 1. 1. 1. 1. 1. 1. 1.]\n"
     ]
    }
   ],
   "source": [
    "print(user_scaled.mean(axis=0))\n",
    "print(user_scaled.std(axis=0))"
   ]
  },
  {
   "cell_type": "code",
   "execution_count": 62,
   "metadata": {},
   "outputs": [
    {
     "name": "stdout",
     "output_type": "stream",
     "text": [
      "[1. 1. 1. 1. 1. 1. 1. 1. 1. 1. 1. 1. 1. 1. 1.]\n",
      "[1. 1. 1. 1. 1. 1. 1. 1. 1. 1. 1. 1. 1. 1. 1. 1. 1. 1. 1. 1. 1. 1. 1. 1.\n",
      " 1. 1. 1. 1. 1. 1. 1. 1. 1. 1. 1. 1. 1. 1. 1. 1. 1. 1. 1. 1. 1. 1. 1. 1.\n",
      " 1. 1. 1. 1. 1. 1. 1. 1. 1. 1. 1. 1. 1. 1. 1. 1. 1. 1. 1. 1. 1. 1. 1. 1.\n",
      " 1. 1. 1. 1. 1. 1. 1. 1. 1. 1. 1. 1. 1. 1. 1. 1. 1. 1. 1. 1. 1. 1. 1. 1.\n",
      " 1. 1. 1. 1. 1. 1. 1. 1. 1. 1. 1. 1. 1. 1. 1. 1. 1. 1. 1. 1. 1. 1. 1. 1.\n",
      " 1. 1. 1. 1. 1. 1. 1. 1. 1. 1. 1. 1. 1. 1. 1. 1. 1. 1. 1. 1. 1. 1. 1. 1.\n",
      " 1. 1. 1. 1. 1. 1. 1. 1. 1. 1. 1. 1. 1. 1. 1. 1. 1. 1. 1. 1. 1. 1. 1. 1.\n",
      " 1. 1. 1. 1. 1. 1. 1. 1. 1. 1. 1. 1. 1. 1. 1. 1. 1. 1. 1. 1. 1. 1. 1. 1.\n",
      " 1. 1. 1. 1. 1. 1. 1. 1. 1. 1. 1. 1. 1. 1. 1. 1. 1. 1. 1. 1. 1. 1. 1. 1.\n",
      " 1. 1. 1. 1. 1. 1. 1. 1. 1. 1. 1. 1. 1. 1. 1. 1. 1. 1. 1. 1. 1. 1. 1. 1.\n",
      " 1. 1. 1. 1. 1. 1. 1. 1. 1. 1. 1. 1. 1. 1. 1. 1. 1. 1. 1. 1. 1. 1. 1. 1.\n",
      " 1. 1. 1. 1. 1. 1. 1. 1. 1. 1. 1. 1. 1. 1. 1. 1. 1. 1. 1. 1. 1. 1. 1. 1.\n",
      " 1. 1. 1. 1. 1. 1. 1. 1. 1. 1. 1. 1. 1. 1. 1. 1. 1. 1. 1. 1. 1. 1. 1. 1.\n",
      " 1. 1. 1. 1. 1. 1. 1. 1. 1. 1. 1. 1. 1. 1. 1. 1. 1. 1. 1. 1. 1. 1. 1. 1.\n",
      " 1. 1. 1. 1. 1. 1. 1. 1. 1. 1. 1. 1. 1. 1. 1. 1. 1. 1. 1. 1. 1. 1. 1. 1.\n",
      " 1. 1. 1. 1. 1. 1. 1. 1. 1. 1. 1. 1. 1. 1. 1. 1. 1. 1. 1. 1. 1. 1. 1. 1.\n",
      " 1. 1. 1. 1. 1. 1. 1. 1. 1. 1. 1. 1. 1. 1. 1. 1. 1. 1. 1. 1. 1. 1. 1. 1.\n",
      " 1. 1. 1. 1. 1. 1. 1. 1. 1. 1. 1. 1. 1. 1. 1. 1. 1. 1. 1. 1. 1. 1. 1. 1.\n",
      " 1. 1. 1. 1. 1. 1. 1. 1. 1. 1. 1. 1. 1. 1. 1. 1. 1. 1. 1. 1. 1. 1. 1. 1.\n",
      " 1. 1. 1. 1. 1. 1. 1. 1. 1. 1. 1. 1. 1. 1. 1. 1. 1. 1. 1. 1. 1. 1. 1. 1.\n",
      " 1. 1. 1. 1. 1. 1. 1. 1. 1. 1. 1. 1. 1. 1. 1. 1. 1. 1. 1. 1. 1. 1. 1. 1.\n",
      " 1. 1. 1. 1. 1. 1. 1. 1. 1. 1. 1. 1. 1. 1. 1. 1. 1. 1. 1. 1. 1. 1. 1. 1.\n",
      " 1. 1. 1. 1. 1. 1. 1. 1. 1. 1. 1. 1. 1. 1. 1. 1. 1. 1. 1. 1. 1. 1. 1. 1.\n",
      " 1. 1. 1.]\n"
     ]
    }
   ],
   "source": [
    "import numpy as np\n",
    "\n",
    "# Normalizar cada vector de características (es decir por filas)\n",
    "\n",
    "# Magnitudes de cada vector (o pista)\n",
    "user_norm = np.sqrt((user_scaled*user_scaled).sum(axis=1))\n",
    "cand_norm = np.sqrt((cand_scaled*cand_scaled).sum(axis=1))\n",
    "\n",
    "# Normalización\n",
    "nuser = user_scaled.shape[0]\n",
    "ncand = cand_scaled.shape[0]\n",
    "user = user_scaled/user_norm.reshape(nuser,1)\n",
    "cand = cand_scaled/cand_norm.reshape(ncand,1)\n",
    "\n",
    "print(np.sqrt((user*user).sum(axis=1)))\n",
    "print(np.sqrt((cand*cand).sum(axis=1)))\n"
   ]
  },
  {
   "cell_type": "code",
   "execution_count": 63,
   "metadata": {},
   "outputs": [
    {
     "data": {
      "text/plain": [
       "(15, 555)"
      ]
     },
     "execution_count": 63,
     "metadata": {},
     "output_type": "execute_result"
    }
   ],
   "source": [
    "from sklearn.metrics.pairwise import linear_kernel\n",
    "\n",
    "# Calcular similitudes del coseno entre cada top-20 y cada\n",
    "# una de las pistas candidatas\n",
    "cos_sim = linear_kernel(user,cand)\n",
    "cos_sim.shape"
   ]
  },
  {
   "cell_type": "code",
   "execution_count": 64,
   "metadata": {},
   "outputs": [
    {
     "name": "stdout",
     "output_type": "stream",
     "text": [
      "0.17227613110014967\n",
      "-0.22706217338271198\n"
     ]
    }
   ],
   "source": [
    "# Ejemplo: ¿qué tanto se parece una pista  user-input a una candidata?\n",
    "print(cos_sim[4,120])   \n",
    "print(cos_sim[3,24])"
   ]
  },
  {
   "cell_type": "code",
   "execution_count": 65,
   "metadata": {},
   "outputs": [],
   "source": [
    "# Obtener candidatos para una pista dada\n",
    "\n",
    "# Dada una pista del user-input (pos = 0, 1, ..., 6) extraer \"ncands\" candidatos, usando\n",
    "# \"cos_sim\" y siempre y cuando superen un umbral de similitud\n",
    "\n",
    "def obtener_candidatos(pos, cos_sim, ncands, umbral = 0.8):\n",
    "    # Obtener todas las pistas candidatas por encima de umbral\n",
    "    idx = np.where(cos_sim[pos,:]>=umbral)[0] # ejm. idx: [27, 82, 135]\n",
    "    \n",
    "    # Y organizarlas de forma descendente (por similitudes de mayor a menor)\n",
    "    idx = idx[np.argsort(cos_sim[pos,idx])[::-1]] # [::-1] porque por defecto argsort organiza de manera ascendente\n",
    "\n",
    "    # Si hay más de \"ncands\", retornar únicamente un total de \"ncands\"\n",
    "    if len(idx) >= ncands:\n",
    "        cands = idx[0:ncands]\n",
    "    else:\n",
    "        cands = idx\n",
    "  \n",
    "    return cands"
   ]
  },
  {
   "cell_type": "code",
   "execution_count": 66,
   "metadata": {},
   "outputs": [
    {
     "name": "stdout",
     "output_type": "stream",
     "text": [
      "0 ==> pistas candidatas: [], similitudes: []\n",
      "1 ==> pistas candidatas: [ 51   2 320  69 513], similitudes: [0.91655146 0.91134643 0.90987351 0.90630753 0.88987016]\n",
      "2 ==> pistas candidatas: [], similitudes: []\n",
      "3 ==> pistas candidatas: [320], similitudes: [0.8665947]\n",
      "4 ==> pistas candidatas: [], similitudes: []\n",
      "5 ==> pistas candidatas: [124 459 242 379 160], similitudes: [0.93412313 0.85858239 0.84843363 0.83010912 0.82975907]\n",
      "6 ==> pistas candidatas: [ 74  52 188], similitudes: [0.84939719 0.83914368 0.80361963]\n",
      "7 ==> pistas candidatas: [436 157 526], similitudes: [0.86872412 0.83921593 0.83234102]\n",
      "8 ==> pistas candidatas: [336 437 244], similitudes: [0.87037572 0.8570547  0.82460865]\n",
      "9 ==> pistas candidatas: [438 314  98], similitudes: [0.88547769 0.87207664 0.82236977]\n",
      "10 ==> pistas candidatas: [], similitudes: []\n",
      "11 ==> pistas candidatas: [], similitudes: []\n",
      "12 ==> pistas candidatas: [], similitudes: []\n",
      "13 ==> pistas candidatas: [], similitudes: []\n",
      "14 ==> pistas candidatas: [202], similitudes: [0.80025491]\n"
     ]
    }
   ],
   "source": [
    "# Ejemplo de uso\n",
    "# Todo: Cuantas canciones necesitará el usuario\n",
    "# para que el sistema le recomiende una canción\n",
    "# que le guste?\n",
    "\n",
    "for i in range(userinput_df.shape[0]):\n",
    "    cands = obtener_candidatos(i, cos_sim, 5)\n",
    "    print(f'{i} ==> pistas candidatas: {cands}, similitudes: {cos_sim[i,cands]}')"
   ]
  },
  {
   "cell_type": "code",
   "execution_count": 67,
   "metadata": {},
   "outputs": [
    {
     "name": "stdout",
     "output_type": "stream",
     "text": [
      "La Chata\n",
      "     ***No se encontraron pistas relacionadas***\n",
      "Decir adiós\n",
      "   (I Can't Help) Falling In Love With You - Can't Help Falling In Love\n",
      "   Entraré\n",
      "   Acurrucar\n",
      "   Tonight I Celebrate My Love\n",
      "   El lugar correcto\n",
      "Te Quiero\n",
      "     ***No se encontraron pistas relacionadas***\n",
      "Decir Adiós\n",
      "   Acurrucar\n",
      "Fin del Tiempo\n",
      "     ***No se encontraron pistas relacionadas***\n",
      "Un Vino, Una Cerveza\n",
      "   Las Solteras\n",
      "   LACONE\n",
      "   Toda la Vida\n",
      "   Tu Angelito\n",
      "   Esa Sí Es una Mujer\n",
      "Cuéntame\n",
      "   Laxed – Siren Beat\n",
      "   M-40\n",
      "   Ay Amor\n",
      "Los Globos del Cielo\n",
      "   Los Globos del Cielo\n",
      "   Verano Del '57\n",
      "   Señal De Vida\n",
      "Me Estoy Enamorando\n",
      "   La Ciguapa\n",
      "   Me Estoy Enamorando\n",
      "   María\n",
      "Degeneración Actual\n",
      "   Degeneración Actual\n",
      "   Berlin\n",
      "   Auto Rojo\n",
      "Fiesta Pagana\n",
      "     ***No se encontraron pistas relacionadas***\n",
      "Molinos De Viento\n",
      "     ***No se encontraron pistas relacionadas***\n",
      "Haste Que El Cuerpo Aguante\n",
      "     ***No se encontraron pistas relacionadas***\n",
      "La Costa Del Silencio\n",
      "     ***No se encontraron pistas relacionadas***\n",
      "La danza del fuego\n",
      "   Agua sin sueño\n"
     ]
    }
   ],
   "source": [
    "# Para crear la playlist se requieren únicamente los ids\n",
    "ids_user = []\n",
    "ids_playlist = []\n",
    "\n",
    "for i in range(userinput_df.shape[0]):\n",
    "    print(userinput_df.index[i])   # Nombre de la pista en el top-20\n",
    "    ids_user.append(userinput_df['id'][i])\n",
    "    \n",
    "    # Obtener listado de candidatos para esta pista\n",
    "    cands = obtener_candidatos(i, cos_sim, 5, umbral=0.8)\n",
    "    \n",
    "    # Si hay pistas relacionadas obtener los ids correspondientes\n",
    "    # e imprimir en pantalla\n",
    "    if len(cands)==0:\n",
    "        print('     ***No se encontraron pistas relacionadas***')\n",
    "    else:\n",
    "        # Obtener los ids correspondientes e imprimir en pantalla\n",
    "        for j in cands:\n",
    "            id_cand = candidatos_df['id'][j]\n",
    "            ids_playlist.append(id_cand)\n",
    "            \n",
    "            # E imprimir en pantalla el candidato\n",
    "            print(f'   {candidatos_df.index[j]}')"
   ]
  },
  {
   "cell_type": "code",
   "execution_count": 68,
   "metadata": {},
   "outputs": [],
   "source": [
    "# Eliminar candidatos que ya están en el top-20\n",
    "ids_playlist_dep = [x for x in ids_playlist if x not in ids_user]\n",
    "\n",
    "# Y eliminar posibles repeticiones\n",
    "ids_playlist_dep = list(set(ids_playlist_dep))\n",
    "ids_user = list(set(ids_user))"
   ]
  },
  {
   "cell_type": "code",
   "execution_count": 69,
   "metadata": {},
   "outputs": [],
   "source": [
    "ids_user.extend(ids_playlist_dep)"
   ]
  },
  {
   "cell_type": "code",
   "execution_count": 70,
   "metadata": {},
   "outputs": [
    {
     "data": {
      "text/plain": [
       "['58t9Q8VqXGhaqtilMkIkRx',\n",
       " '1snT64YtuTvZYVzuornRjw',\n",
       " '7c6Zu7NeLHWy4r3ztZuT0G',\n",
       " '5Q2J37xbIR60z6ifswoGKe',\n",
       " '02dphTJYUQ9pmdNC52iyOz',\n",
       " '19vhfSUgVJO2enJ6XidUGO',\n",
       " '0eJGouVmEGxPktWPSTfpuI',\n",
       " '4COvULULVKLsMKMRKIiXUa',\n",
       " '0gnsuw6eGZEwph1rKnxzOu',\n",
       " '5xj5qixWeH2I44SFx0Icdv',\n",
       " '5Q2uU5NGcS0mKwmgF28kRZ',\n",
       " '3jzpdDnLaQcsuGCw4JwVYS',\n",
       " '0dQPkfweyWDzZ20Auq3F14',\n",
       " '76KLnsqCiFEFTEQp2Vaf8R',\n",
       " '4mTsRdFE28MYlrZo8N4Es0',\n",
       " '1vywengPlpJuJggJ9xOUYB',\n",
       " '1koXbetRP1PgmDRqU4DFPb',\n",
       " '5PSCWHpXi8I45NXURHyhBA',\n",
       " '3BJiF37kmX4HCfYSO7qBnQ',\n",
       " '7M8sGCxjrx4tKV1m0g9JDA',\n",
       " '6Fu5E5nuKfVOecwBmWLi7O',\n",
       " '3G6XpCfczuhbTSBlgfqe9v',\n",
       " '2IzV2SPZQLadtA46ni3ICq',\n",
       " '0XXbz44sfkVbDgs2c7sKOS',\n",
       " '4Rjq1TZbF0bDstOs6SiI6J',\n",
       " '3WXURJDWa3YGUQtVMYrXfK',\n",
       " '2mTvV8CHQ44qaXxaD2FUkP',\n",
       " '77VXEopCatM9pqJl0beeCj',\n",
       " '4BXG52ul7GlV4Qpve6JDJo',\n",
       " '4JPKPMBj03iHQ6zrOJzEKd',\n",
       " '6kFJXL8yuKMxq6oVLbjGgO',\n",
       " '1xYBeQ5u8uaJ3oBWktjGyJ',\n",
       " '7JOyY9GA3P2Evx50oetDKb',\n",
       " '2WUV07tqCF5JR3bEjpYHVg',\n",
       " '2ckJCt5gFJ1tB4etHN90TD']"
      ]
     },
     "execution_count": 70,
     "metadata": {},
     "output_type": "execute_result"
    }
   ],
   "source": [
    "ids_user"
   ]
  },
  {
   "cell_type": "markdown",
   "metadata": {},
   "source": [
    "## Crear la playlist en spotipy"
   ]
  },
  {
   "cell_type": "code",
   "execution_count": 75,
   "metadata": {},
   "outputs": [],
   "source": [
    "import spotipy\n",
    "from spotipy.oauth2 import SpotifyOAuth\n",
    "\n",
    "scope = \"playlist-modify-private\"\n",
    "\n",
    "sp = spotipy.Spotify(auth_manager=SpotifyOAuth(scope=scope))"
   ]
  },
  {
   "cell_type": "code",
   "execution_count": 76,
   "metadata": {},
   "outputs": [],
   "source": [
    "# Crear la playlist en spotify\n",
    "me = sp.me()\n",
    "username = me['id']\n",
    "\n",
    "pl = sp.user_playlist_create(user=username, \n",
    "                             name='DJ Spotify',\n",
    "                             description='Playlist creada por el DJ Spotify',\n",
    "                             public=False)"
   ]
  },
  {
   "cell_type": "code",
   "execution_count": 77,
   "metadata": {},
   "outputs": [
    {
     "data": {
      "text/plain": [
       "{'snapshot_id': 'MywxYzE4OGUwNGY2NDA1MmNjZmI0ZDY3MjgxNjgxMWIwOTI4Y2E3ODYx'}"
      ]
     },
     "execution_count": 77,
     "metadata": {},
     "output_type": "execute_result"
    }
   ],
   "source": [
    "sp.playlist_add_items(pl['id'], ids_user)"
   ]
  }
 ],
 "metadata": {
  "kernelspec": {
   "display_name": "api",
   "language": "python",
   "name": "python3"
  },
  "language_info": {
   "codemirror_mode": {
    "name": "ipython",
    "version": 3
   },
   "file_extension": ".py",
   "mimetype": "text/x-python",
   "name": "python",
   "nbconvert_exporter": "python",
   "pygments_lexer": "ipython3",
   "version": "3.10.9"
  },
  "orig_nbformat": 4
 },
 "nbformat": 4,
 "nbformat_minor": 2
}
